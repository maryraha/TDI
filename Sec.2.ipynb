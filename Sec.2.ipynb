{
 "cells": [
  {
   "cell_type": "code",
   "execution_count": 1,
   "metadata": {},
   "outputs": [],
   "source": [
    "import pandas as pd\n",
    "import timestring \n",
    "from urllib.request import urlopen\n",
    "from bs4 import BeautifulSoup\n",
    "import re\n",
    "from sklearn import linear_model\n",
    "import warnings\n",
    "warnings.filterwarnings(\"ignore\")"
   ]
  },
  {
   "cell_type": "markdown",
   "metadata": {},
   "source": [
    "## Load the data and remove all rows that are missing a value for ANY of the following columns: 'Title', 'Artist', or 'DateAcquired'. Use this cleaned data for the rest of the challenge. After removing these rows, how many rows remain?"
   ]
  },
  {
   "cell_type": "code",
   "execution_count": 2,
   "metadata": {},
   "outputs": [
    {
     "name": "stdout",
     "output_type": "stream",
     "text": [
      "The artwork dataset originally had 138,151 rows.\n",
      "\n",
      "The artwork dataset after cleaning has 129,930 rows.\n"
     ]
    }
   ],
   "source": [
    "artworks= pd.read_csv(\"C:/Users/rahaf/Downloads/artworks.csv\")\n",
    "print('The artwork dataset originally had', format(artworks.shape[0],','),'rows.')\n",
    "print()\n",
    "artworks_clnd=artworks.dropna(how='any', subset=['Title', 'Artist','DateAcquired'])\n",
    "print('The artwork dataset after cleaning has', format(artworks_clnd.shape[0],','),'rows.')"
   ]
  },
  {
   "cell_type": "markdown",
   "metadata": {},
   "source": [
    "## Looking at the Title for each work of art, how many unique titles contain the string 'untitled' (NOT case-sensitive)?"
   ]
  },
  {
   "cell_type": "code",
   "execution_count": 3,
   "metadata": {},
   "outputs": [
    {
     "name": "stdout",
     "output_type": "stream",
     "text": [
      "number of unique titles that contain \"untitled\" (NOT case-sensitive) = 3900\n"
     ]
    }
   ],
   "source": [
    "#list the unique values of the column Title\n",
    "title_list=artworks_clnd['Title'].unique().tolist() \n",
    "\n",
    "#lowercasing the title_list\n",
    "title_list_l=list(map(str.lower, title_list))\n",
    "\n",
    "#find titles in title_list_l that include the string 'untitled' \n",
    "title_with_substring= [title for title in title_list_l if 'untitled' in title]\n",
    "print('number of unique titles that contain \"untitled\" (NOT case-sensitive) =',len(title_with_substring))"
   ]
  },
  {
   "cell_type": "markdown",
   "metadata": {},
   "source": [
    "## Of the works with a non-null, positive value for Duration (column 'Duration (sec.)'), what proportion of these durations are listed as being longer than 10 hours?"
   ]
  },
  {
   "cell_type": "code",
   "execution_count": 4,
   "metadata": {},
   "outputs": [
    {
     "name": "stdout",
     "output_type": "stream",
     "text": [
      "a= 1844 b= 24 b/a= 0.013015184381778741\n"
     ]
    }
   ],
   "source": [
    "a=artworks_clnd[artworks_clnd['Duration (sec.)']>0]#positive values\n",
    "b=a[a['Duration (sec.)']>36000]\n",
    "print('a=',a.shape[0], 'b=', b.shape[0], 'b/a=', b.shape[0]/a.shape[0])\n"
   ]
  },
  {
   "cell_type": "markdown",
   "metadata": {},
   "source": [
    "## The Golden Ratio (phi ~= 1.618) is popularly regarded for its aesthetic qualities, but how typically is it observed in canvas shapes in MoMA's collection? For all works in the department of Drawings & Prints whose Width (column 'Width (cm)') and Height (column 'Height (cm)') are greater than zero, compute each piece's aspect ratio as Width / Height. What proportion of these aspect ratios are within one percent of the Golden Ratio or the inverse of the Golden Ratio (which would denote a vertical Golden Rectangle)?"
   ]
  },
  {
   "cell_type": "code",
   "execution_count": 5,
   "metadata": {},
   "outputs": [
    {
     "data": {
      "text/plain": [
       "0.016048764686828233"
      ]
     },
     "execution_count": 5,
     "metadata": {},
     "output_type": "execute_result"
    }
   ],
   "source": [
    "#filter the data\n",
    "filtered_data=artworks_clnd[(artworks_clnd['Department']=='Drawings & Prints') &\n",
    "              (artworks_clnd['Width (cm)']>0) &\n",
    "              (artworks_clnd['Height (cm)']>0)].copy()\n",
    "\n",
    "#compute width height ratio\n",
    "filtered_data['w/h']=filtered_data['Width (cm)']/ filtered_data['Height (cm)']\n",
    "\n",
    "#1 if ratio is within the accepted range (inclusive), 0 ow\n",
    "filtered_data['GR']=filtered_data['w/h'].apply(lambda x: 1 if \n",
    "                                               (1.608<=x<=1.628)|(0.608<=x<=0.628)\n",
    "                                               else 0)\n",
    "#compute the proportion of the w/h ratios \n",
    "filtered_data[filtered_data['GR']==1].shape[0]/filtered_data.shape[0]"
   ]
  },
  {
   "cell_type": "markdown",
   "metadata": {},
   "source": [
    "## Of all pieces listed, what proportion belong to the Photography Department? Remember, you should be using the cleaned data you prepared in the last question."
   ]
  },
  {
   "cell_type": "code",
   "execution_count": 6,
   "metadata": {},
   "outputs": [
    {
     "data": {
      "text/plain": [
       "0.23909027938120525"
      ]
     },
     "execution_count": 6,
     "metadata": {},
     "output_type": "execute_result"
    }
   ],
   "source": [
    "artworks_clnd[artworks_clnd['Department']=='Photography'].shape[0]/artworks_clnd.shape[0]"
   ]
  },
  {
   "cell_type": "markdown",
   "metadata": {},
   "source": [
    "## MoMA tends more heavily toward printed works, rather than painted works, as evidenced by the value counts for each Department in the data set. What about the materials on which these prints and paintings appear? Looking at the Medium for each work of art, report the ratio of the number of works that contain the string 'paper' compared to those that contain the string 'canvas' (NOT case-sensitive)."
   ]
  },
  {
   "cell_type": "code",
   "execution_count": 7,
   "metadata": {},
   "outputs": [
    {
     "data": {
      "text/plain": [
       "array(['Architecture & Design', 'Drawings & Prints',\n",
       "       'Painting & Sculpture', 'Photography', 'Media and Performance',\n",
       "       'Film', 'Fluxus Collection'], dtype=object)"
      ]
     },
     "execution_count": 7,
     "metadata": {},
     "output_type": "execute_result"
    }
   ],
   "source": [
    "artworks_clnd['Department'].unique()"
   ]
  },
  {
   "cell_type": "code",
   "execution_count": 8,
   "metadata": {},
   "outputs": [
    {
     "name": "stdout",
     "output_type": "stream",
     "text": [
      " ratio of the number of works that contain the string \"paper\" compared to those that contain the string \"canvas\" (NOT case-sensitive) 7.02985884907709\n"
     ]
    }
   ],
   "source": [
    "print_paint=artworks_clnd[(artworks_clnd['Department']=='Drawings & Prints') |\n",
    "              (artworks_clnd['Department']=='Painting & Sculpture')]\n",
    "\n",
    "# find works that include the string 'paper' \n",
    "print_paint_paper= print_paint['Medium'].str.lower().str.contains(r'paper')\n",
    "\n",
    "# find works that include the string 'canvas'\n",
    "print_paint_canvas= print_paint['Medium'].str.lower().str.contains(r'canvas')\n",
    "\n",
    "print(' ratio of the number of works that contain the string \"paper\" compared to those that contain the string \"canvas\" (NOT case-sensitive)', \n",
    "      print_paint_paper.sum()/print_paint_canvas.sum())"
   ]
  },
  {
   "cell_type": "markdown",
   "metadata": {},
   "source": [
    "## For each year between 1960-1970 (inclusive), compute the number of unique artists whose work MoMA acquired that year. Perform a linear regression on these counts, where X is the year and y is the count of unique artists. Report the R^2 value for this fitted regression model."
   ]
  },
  {
   "cell_type": "code",
   "execution_count": 9,
   "metadata": {},
   "outputs": [
    {
     "data": {
      "text/plain": [
       "Index(['Title', 'Artist', 'ConstituentID', 'ArtistBio', 'Nationality',\n",
       "       'BeginDate', 'EndDate', 'Gender', 'Date', 'Medium', 'Dimensions',\n",
       "       'CreditLine', 'AccessionNumber', 'Classification', 'Department',\n",
       "       'DateAcquired', 'Cataloged', 'ObjectID', 'URL', 'ThumbnailURL',\n",
       "       'Circumference (cm)', 'Depth (cm)', 'Diameter (cm)', 'Height (cm)',\n",
       "       'Length (cm)', 'Weight (kg)', 'Width (cm)', 'Seat Height (cm)',\n",
       "       'Duration (sec.)'],\n",
       "      dtype='object')"
      ]
     },
     "execution_count": 9,
     "metadata": {},
     "output_type": "execute_result"
    }
   ],
   "source": [
    "artworks_clnd.columns"
   ]
  },
  {
   "cell_type": "code",
   "execution_count": 10,
   "metadata": {},
   "outputs": [],
   "source": [
    "#convert datetime string to year\n",
    "artworks_clnd['YearAcquired']=artworks_clnd['DateAcquired'].apply(lambda x:timestring.Date(x).year)"
   ]
  },
  {
   "cell_type": "code",
   "execution_count": 11,
   "metadata": {},
   "outputs": [
    {
     "data": {
      "text/html": [
       "<div>\n",
       "<style scoped>\n",
       "    .dataframe tbody tr th:only-of-type {\n",
       "        vertical-align: middle;\n",
       "    }\n",
       "\n",
       "    .dataframe tbody tr th {\n",
       "        vertical-align: top;\n",
       "    }\n",
       "\n",
       "    .dataframe thead th {\n",
       "        text-align: right;\n",
       "    }\n",
       "</style>\n",
       "<table border=\"1\" class=\"dataframe\">\n",
       "  <thead>\n",
       "    <tr style=\"text-align: right;\">\n",
       "      <th></th>\n",
       "      <th>YearAcquired</th>\n",
       "      <th>Artist</th>\n",
       "      <th>CountUniqueArtists</th>\n",
       "    </tr>\n",
       "  </thead>\n",
       "  <tbody>\n",
       "    <tr>\n",
       "      <th>0</th>\n",
       "      <td>1960</td>\n",
       "      <td>[Richard Riemerschmid, Hector Guimard, Louis C...</td>\n",
       "      <td>224</td>\n",
       "    </tr>\n",
       "    <tr>\n",
       "      <th>1</th>\n",
       "      <td>1961</td>\n",
       "      <td>[August Endell, Peter Behrens, Joseph Maria Ol...</td>\n",
       "      <td>252</td>\n",
       "    </tr>\n",
       "    <tr>\n",
       "      <th>2</th>\n",
       "      <td>1962</td>\n",
       "      <td>[Tapio Wirkkala, Sheila Hicks, Percy Stamp, Na...</td>\n",
       "      <td>167</td>\n",
       "    </tr>\n",
       "    <tr>\n",
       "      <th>3</th>\n",
       "      <td>1963</td>\n",
       "      <td>[Hans Hollein, Walter Pichler, Ludwig Mies van...</td>\n",
       "      <td>309</td>\n",
       "    </tr>\n",
       "    <tr>\n",
       "      <th>4</th>\n",
       "      <td>1964</td>\n",
       "      <td>[Louis I. Kahn, Ludwig Mies van der Rohe, Tapi...</td>\n",
       "      <td>653</td>\n",
       "    </tr>\n",
       "    <tr>\n",
       "      <th>5</th>\n",
       "      <td>1965</td>\n",
       "      <td>[Raimund Abraham, Kenneth Snelson, Ludwig Mies...</td>\n",
       "      <td>417</td>\n",
       "    </tr>\n",
       "    <tr>\n",
       "      <th>6</th>\n",
       "      <td>1966</td>\n",
       "      <td>[Hans Poelzig, Paul Nelson, Frantz Jourdain, O...</td>\n",
       "      <td>326</td>\n",
       "    </tr>\n",
       "    <tr>\n",
       "      <th>7</th>\n",
       "      <td>1967</td>\n",
       "      <td>[Louis I. Kahn, Ann Tyng, Louis I. Kahn, Hans ...</td>\n",
       "      <td>578</td>\n",
       "    </tr>\n",
       "    <tr>\n",
       "      <th>8</th>\n",
       "      <td>1968</td>\n",
       "      <td>[Ludwig Mies van der Rohe, Raimund Abraham, Ca...</td>\n",
       "      <td>451</td>\n",
       "    </tr>\n",
       "    <tr>\n",
       "      <th>9</th>\n",
       "      <td>1969</td>\n",
       "      <td>[Jason Crum, Konrad Wachsmann, Mary Walker Phi...</td>\n",
       "      <td>445</td>\n",
       "    </tr>\n",
       "    <tr>\n",
       "      <th>10</th>\n",
       "      <td>1970</td>\n",
       "      <td>[Hector Guimard, Anni Albers, Mario Bellini, T...</td>\n",
       "      <td>272</td>\n",
       "    </tr>\n",
       "  </tbody>\n",
       "</table>\n",
       "</div>"
      ],
      "text/plain": [
       "    YearAcquired                                             Artist  \\\n",
       "0           1960  [Richard Riemerschmid, Hector Guimard, Louis C...   \n",
       "1           1961  [August Endell, Peter Behrens, Joseph Maria Ol...   \n",
       "2           1962  [Tapio Wirkkala, Sheila Hicks, Percy Stamp, Na...   \n",
       "3           1963  [Hans Hollein, Walter Pichler, Ludwig Mies van...   \n",
       "4           1964  [Louis I. Kahn, Ludwig Mies van der Rohe, Tapi...   \n",
       "5           1965  [Raimund Abraham, Kenneth Snelson, Ludwig Mies...   \n",
       "6           1966  [Hans Poelzig, Paul Nelson, Frantz Jourdain, O...   \n",
       "7           1967  [Louis I. Kahn, Ann Tyng, Louis I. Kahn, Hans ...   \n",
       "8           1968  [Ludwig Mies van der Rohe, Raimund Abraham, Ca...   \n",
       "9           1969  [Jason Crum, Konrad Wachsmann, Mary Walker Phi...   \n",
       "10          1970  [Hector Guimard, Anni Albers, Mario Bellini, T...   \n",
       "\n",
       "    CountUniqueArtists  \n",
       "0                  224  \n",
       "1                  252  \n",
       "2                  167  \n",
       "3                  309  \n",
       "4                  653  \n",
       "5                  417  \n",
       "6                  326  \n",
       "7                  578  \n",
       "8                  451  \n",
       "9                  445  \n",
       "10                 272  "
      ]
     },
     "execution_count": 11,
     "metadata": {},
     "output_type": "execute_result"
    }
   ],
   "source": [
    "#filter dates\n",
    "date_filtered=artworks_clnd[(artworks_clnd['YearAcquired']<=1970) &(artworks_clnd['YearAcquired']>=1960)]\n",
    "\n",
    "#group unique artists by year\n",
    "date_prediction=pd.DataFrame(date_filtered.groupby(['YearAcquired'])['Artist'].unique())\n",
    "date_prediction.reset_index(level=0, inplace=True)\n",
    "\n",
    "#compute count of unique artists in each year\n",
    "date_prediction['CountUniqueArtists']=date_prediction['Artist'].apply(lambda x: len(x)) \n",
    "\n",
    "date_prediction"
   ]
  },
  {
   "cell_type": "code",
   "execution_count": 12,
   "metadata": {},
   "outputs": [
    {
     "name": "stdout",
     "output_type": "stream",
     "text": [
      "The coefficient of determination R^2 of the prediction is 0.1706237304148105\n"
     ]
    }
   ],
   "source": [
    "#linear regression\n",
    "lm = linear_model.LinearRegression()\n",
    "x=pd.DataFrame(date_prediction['YearAcquired'])\n",
    "y=pd.DataFrame(date_prediction['CountUniqueArtists'])\n",
    "reg = lm.fit(x,y)\n",
    "print('The coefficient of determination R^2 of the prediction is',reg.score(x,y))"
   ]
  },
  {
   "cell_type": "markdown",
   "metadata": {},
   "source": [
    "## Does the number of MoMA's yearly acquisitions vary along with changes to the market? Compute the number of pieces acquired by MoMA for each year from 2000-2010 (inclusive), then compute the percent difference in yearly acquisitions. Next, using values from the link provided, obtain January's average closing price for the S&P 500 across those same years (2000-2010). Compute the year-to-year percent difference of those values, as well. Finally, compute and report the Pearson's correlation coefficient between the percent differences in yearly acquisitions and in the average January S&P 500 closing prices."
   ]
  },
  {
   "cell_type": "code",
   "execution_count": 13,
   "metadata": {},
   "outputs": [],
   "source": [
    "#filter the year\n",
    "date_filtered2=artworks_clnd[(artworks_clnd['YearAcquired']<=2010) &\n",
    "                             (artworks_clnd['YearAcquired']>=2000)]\n",
    "\n",
    "#find nuber of pieces acquired each year\n",
    "yearly_aqcuisitions=pd.DataFrame(date_filtered2.groupby(['YearAcquired'])\n",
    "                                 ['ConstituentID'].count())\n",
    "\n",
    "yearly_aqcuisitions.reset_index(level=0, inplace=True)\n",
    "\n",
    "yearly_aqcuisitions.rename(columns={'ConstituentID': 'TotalPieces'},\n",
    "                           inplace='True')"
   ]
  },
  {
   "cell_type": "code",
   "execution_count": 14,
   "metadata": {},
   "outputs": [],
   "source": [
    "yearly_aqcuisitions['pct_change']=yearly_aqcuisitions['TotalPieces'].pct_change()"
   ]
  },
  {
   "cell_type": "code",
   "execution_count": 15,
   "metadata": {
    "scrolled": true
   },
   "outputs": [
    {
     "data": {
      "text/html": [
       "<div>\n",
       "<style scoped>\n",
       "    .dataframe tbody tr th:only-of-type {\n",
       "        vertical-align: middle;\n",
       "    }\n",
       "\n",
       "    .dataframe tbody tr th {\n",
       "        vertical-align: top;\n",
       "    }\n",
       "\n",
       "    .dataframe thead th {\n",
       "        text-align: right;\n",
       "    }\n",
       "</style>\n",
       "<table border=\"1\" class=\"dataframe\">\n",
       "  <thead>\n",
       "    <tr style=\"text-align: right;\">\n",
       "      <th></th>\n",
       "      <th>YearAcquired</th>\n",
       "      <th>TotalPieces</th>\n",
       "      <th>pct_change</th>\n",
       "    </tr>\n",
       "  </thead>\n",
       "  <tbody>\n",
       "    <tr>\n",
       "      <th>0</th>\n",
       "      <td>2000</td>\n",
       "      <td>1880</td>\n",
       "      <td>NaN</td>\n",
       "    </tr>\n",
       "    <tr>\n",
       "      <th>1</th>\n",
       "      <td>2001</td>\n",
       "      <td>4160</td>\n",
       "      <td>1.212766</td>\n",
       "    </tr>\n",
       "    <tr>\n",
       "      <th>2</th>\n",
       "      <td>2002</td>\n",
       "      <td>651</td>\n",
       "      <td>-0.843510</td>\n",
       "    </tr>\n",
       "    <tr>\n",
       "      <th>3</th>\n",
       "      <td>2003</td>\n",
       "      <td>549</td>\n",
       "      <td>-0.156682</td>\n",
       "    </tr>\n",
       "    <tr>\n",
       "      <th>4</th>\n",
       "      <td>2004</td>\n",
       "      <td>763</td>\n",
       "      <td>0.389800</td>\n",
       "    </tr>\n",
       "    <tr>\n",
       "      <th>5</th>\n",
       "      <td>2005</td>\n",
       "      <td>4030</td>\n",
       "      <td>4.281782</td>\n",
       "    </tr>\n",
       "    <tr>\n",
       "      <th>6</th>\n",
       "      <td>2006</td>\n",
       "      <td>1666</td>\n",
       "      <td>-0.586600</td>\n",
       "    </tr>\n",
       "    <tr>\n",
       "      <th>7</th>\n",
       "      <td>2007</td>\n",
       "      <td>2342</td>\n",
       "      <td>0.405762</td>\n",
       "    </tr>\n",
       "    <tr>\n",
       "      <th>8</th>\n",
       "      <td>2008</td>\n",
       "      <td>6518</td>\n",
       "      <td>1.783091</td>\n",
       "    </tr>\n",
       "    <tr>\n",
       "      <th>9</th>\n",
       "      <td>2009</td>\n",
       "      <td>1536</td>\n",
       "      <td>-0.764345</td>\n",
       "    </tr>\n",
       "    <tr>\n",
       "      <th>10</th>\n",
       "      <td>2010</td>\n",
       "      <td>1890</td>\n",
       "      <td>0.230469</td>\n",
       "    </tr>\n",
       "  </tbody>\n",
       "</table>\n",
       "</div>"
      ],
      "text/plain": [
       "    YearAcquired  TotalPieces  pct_change\n",
       "0           2000         1880         NaN\n",
       "1           2001         4160    1.212766\n",
       "2           2002          651   -0.843510\n",
       "3           2003          549   -0.156682\n",
       "4           2004          763    0.389800\n",
       "5           2005         4030    4.281782\n",
       "6           2006         1666   -0.586600\n",
       "7           2007         2342    0.405762\n",
       "8           2008         6518    1.783091\n",
       "9           2009         1536   -0.764345\n",
       "10          2010         1890    0.230469"
      ]
     },
     "execution_count": 15,
     "metadata": {},
     "output_type": "execute_result"
    }
   ],
   "source": [
    "yearly_aqcuisitions"
   ]
  },
  {
   "cell_type": "code",
   "execution_count": 16,
   "metadata": {},
   "outputs": [
    {
     "data": {
      "text/plain": [
       "['Date',\n",
       " 'Price',\n",
       " 'Value',\n",
       " 'Jan 14, 2021',\n",
       " '3,812.66',\n",
       " 'Jan 1, 2021',\n",
       " '3,744.86',\n",
       " 'Jan 1, 2020',\n",
       " '3,278.20',\n",
       " 'Jan 1, 2019',\n",
       " '2,607.39',\n",
       " 'Jan 1, 2018',\n",
       " '2,789.80',\n",
       " 'Jan 1, 2017',\n",
       " '2,275.12',\n",
       " 'Jan 1, 2016',\n",
       " '1,918.60',\n",
       " 'Jan 1, 2015',\n",
       " '2,028.18',\n",
       " 'Jan 1, 2014',\n",
       " '1,822.36',\n",
       " 'Jan 1, 2013',\n",
       " '1,480.40',\n",
       " 'Jan 1, 2012',\n",
       " '1,300.58',\n",
       " 'Jan 1, 2011',\n",
       " '1,282.62',\n",
       " 'Jan 1, 2010',\n",
       " '1,123.58',\n",
       " 'Jan 1, 2009',\n",
       " '865.58',\n",
       " 'Jan 1, 2008',\n",
       " '1,378.76',\n",
       " 'Jan 1, 2007',\n",
       " '1,424.16',\n",
       " 'Jan 1, 2006',\n",
       " '1,278.73',\n",
       " 'Jan 1, 2005',\n",
       " '1,181.41',\n",
       " 'Jan 1, 2004',\n",
       " '1,132.52',\n",
       " 'Jan 1, 2003',\n",
       " '895.84',\n",
       " 'Jan 1, 2002',\n",
       " '1,140.21',\n",
       " 'Jan 1, 2001',\n",
       " '1,335.63',\n",
       " 'Jan 1, 2000',\n",
       " '1,425.59',\n",
       " 'Jan 1, 1999',\n",
       " '1,248.77',\n",
       " 'Jan 1, 1998',\n",
       " '963.36',\n",
       " 'Jan 1, 1997',\n",
       " '766.22',\n",
       " 'Jan 1, 1996',\n",
       " '614.42',\n",
       " 'Jan 1, 1995',\n",
       " '465.25',\n",
       " 'Jan 1, 1994',\n",
       " '472.99',\n",
       " 'Jan 1, 1993',\n",
       " '435.23',\n",
       " 'Jan 1, 1992',\n",
       " '416.08',\n",
       " 'Jan 1, 1991',\n",
       " '325.49',\n",
       " 'Jan 1, 1990',\n",
       " '339.97',\n",
       " 'Jan 1, 1989',\n",
       " '285.40',\n",
       " 'Jan 1, 1988',\n",
       " '250.50',\n",
       " 'Jan 1, 1987',\n",
       " '264.50',\n",
       " 'Jan 1, 1986',\n",
       " '208.20',\n",
       " 'Jan 1, 1985',\n",
       " '171.60',\n",
       " 'Jan 1, 1984',\n",
       " '166.40',\n",
       " 'Jan 1, 1983',\n",
       " '144.30',\n",
       " 'Jan 1, 1982',\n",
       " '117.30',\n",
       " 'Jan 1, 1981',\n",
       " '133.00',\n",
       " 'Jan 1, 1980',\n",
       " '110.90',\n",
       " 'Jan 1, 1979',\n",
       " '99.71',\n",
       " 'Jan 1, 1978',\n",
       " '90.25',\n",
       " 'Jan 1, 1977',\n",
       " '103.80',\n",
       " 'Jan 1, 1976',\n",
       " '96.86',\n",
       " 'Jan 1, 1975',\n",
       " '72.56',\n",
       " 'Jan 1, 1974',\n",
       " '96.11',\n",
       " 'Jan 1, 1973',\n",
       " '118.40',\n",
       " 'Jan 1, 1972',\n",
       " '103.30',\n",
       " 'Jan 1, 1971',\n",
       " '93.49',\n",
       " 'Jan 1, 1970',\n",
       " '90.31',\n",
       " 'Jan 1, 1969',\n",
       " '102.00',\n",
       " 'Jan 1, 1968',\n",
       " '95.04',\n",
       " 'Jan 1, 1967',\n",
       " '84.45',\n",
       " 'Jan 1, 1966',\n",
       " '93.32',\n",
       " 'Jan 1, 1965',\n",
       " '86.12',\n",
       " 'Jan 1, 1964',\n",
       " '76.45',\n",
       " 'Jan 1, 1963',\n",
       " '65.06',\n",
       " 'Jan 1, 1962',\n",
       " '69.07',\n",
       " 'Jan 1, 1961',\n",
       " '59.72',\n",
       " 'Jan 1, 1960',\n",
       " '58.03',\n",
       " 'Jan 1, 1959',\n",
       " '55.62',\n",
       " 'Jan 1, 1958',\n",
       " '41.12',\n",
       " 'Jan 1, 1957',\n",
       " '45.43',\n",
       " 'Jan 1, 1956',\n",
       " '44.15',\n",
       " 'Jan 1, 1955',\n",
       " '35.60',\n",
       " 'Jan 1, 1954',\n",
       " '25.46',\n",
       " 'Jan 1, 1953',\n",
       " '26.18',\n",
       " 'Jan 1, 1952',\n",
       " '24.19',\n",
       " 'Jan 1, 1951',\n",
       " '21.21',\n",
       " 'Jan 1, 1950',\n",
       " '16.88',\n",
       " 'Jan 1, 1949',\n",
       " '15.36',\n",
       " 'Jan 1, 1948',\n",
       " '14.83',\n",
       " 'Jan 1, 1947',\n",
       " '15.21',\n",
       " 'Jan 1, 1946',\n",
       " '18.02',\n",
       " 'Jan 1, 1945',\n",
       " '13.49',\n",
       " 'Jan 1, 1944',\n",
       " '11.85',\n",
       " 'Jan 1, 1943',\n",
       " '10.09',\n",
       " 'Jan 1, 1942',\n",
       " '8.93',\n",
       " 'Jan 1, 1941',\n",
       " '10.55',\n",
       " 'Jan 1, 1940',\n",
       " '12.30',\n",
       " 'Jan 1, 1939',\n",
       " '12.50',\n",
       " 'Jan 1, 1938',\n",
       " '11.31',\n",
       " 'Jan 1, 1937',\n",
       " '17.59',\n",
       " 'Jan 1, 1936',\n",
       " '13.76',\n",
       " 'Jan 1, 1935',\n",
       " '9.26',\n",
       " 'Jan 1, 1934',\n",
       " '10.54',\n",
       " 'Jan 1, 1933',\n",
       " '7.09',\n",
       " 'Jan 1, 1932',\n",
       " '8.30',\n",
       " 'Jan 1, 1931',\n",
       " '15.98',\n",
       " 'Jan 1, 1930',\n",
       " '21.71',\n",
       " 'Jan 1, 1929',\n",
       " '24.86',\n",
       " 'Jan 1, 1928',\n",
       " '17.53',\n",
       " 'Jan 1, 1927',\n",
       " '13.40',\n",
       " 'Jan 1, 1926',\n",
       " '12.65',\n",
       " 'Jan 1, 1925',\n",
       " '10.58',\n",
       " 'Jan 1, 1924',\n",
       " '8.83',\n",
       " 'Jan 1, 1923',\n",
       " '8.90',\n",
       " 'Jan 1, 1922',\n",
       " '7.30',\n",
       " 'Jan 1, 1921',\n",
       " '7.11',\n",
       " 'Jan 1, 1920',\n",
       " '8.83',\n",
       " 'Jan 1, 1919',\n",
       " '7.85',\n",
       " 'Jan 1, 1918',\n",
       " '7.21',\n",
       " 'Jan 1, 1917',\n",
       " '9.57',\n",
       " 'Jan 1, 1916',\n",
       " '9.33',\n",
       " 'Jan 1, 1915',\n",
       " '7.48',\n",
       " 'Jan 1, 1914',\n",
       " '8.37',\n",
       " 'Jan 1, 1913',\n",
       " '9.30',\n",
       " 'Jan 1, 1912',\n",
       " '9.12',\n",
       " 'Jan 1, 1911',\n",
       " '9.27',\n",
       " 'Jan 1, 1910',\n",
       " '10.08',\n",
       " 'Jan 1, 1909',\n",
       " '9.06',\n",
       " 'Jan 1, 1908',\n",
       " '6.85',\n",
       " 'Jan 1, 1907',\n",
       " '9.56',\n",
       " 'Jan 1, 1906',\n",
       " '9.87',\n",
       " 'Jan 1, 1905',\n",
       " '8.43',\n",
       " 'Jan 1, 1904',\n",
       " '6.68',\n",
       " 'Jan 1, 1903',\n",
       " '8.46',\n",
       " 'Jan 1, 1902',\n",
       " '8.12',\n",
       " 'Jan 1, 1901',\n",
       " '7.07',\n",
       " 'Jan 1, 1900',\n",
       " '6.10',\n",
       " 'Jan 1, 1899',\n",
       " '6.08',\n",
       " 'Jan 1, 1898',\n",
       " '4.88',\n",
       " 'Jan 1, 1897',\n",
       " '4.22',\n",
       " 'Jan 1, 1896',\n",
       " '4.27',\n",
       " 'Jan 1, 1895',\n",
       " '4.25',\n",
       " 'Jan 1, 1894',\n",
       " '4.32',\n",
       " 'Jan 1, 1893',\n",
       " '5.61',\n",
       " 'Jan 1, 1892',\n",
       " '5.51',\n",
       " 'Jan 1, 1891',\n",
       " '4.84',\n",
       " 'Jan 1, 1890',\n",
       " '5.38',\n",
       " 'Jan 1, 1889',\n",
       " '5.24',\n",
       " 'Jan 1, 1888',\n",
       " '5.31',\n",
       " 'Jan 1, 1887',\n",
       " '5.58',\n",
       " 'Jan 1, 1886',\n",
       " '5.20',\n",
       " 'Jan 1, 1885',\n",
       " '4.24',\n",
       " 'Jan 1, 1884',\n",
       " '5.18',\n",
       " 'Jan 1, 1883',\n",
       " '5.81',\n",
       " 'Jan 1, 1882',\n",
       " '5.92',\n",
       " 'Jan 1, 1881',\n",
       " '6.19',\n",
       " 'Jan 1, 1880',\n",
       " '5.11',\n",
       " 'Jan 1, 1879',\n",
       " '3.58',\n",
       " 'Jan 1, 1878',\n",
       " '3.25',\n",
       " 'Jan 1, 1877',\n",
       " '3.55',\n",
       " 'Jan 1, 1876',\n",
       " '4.46',\n",
       " 'Jan 1, 1875',\n",
       " '4.54',\n",
       " 'Jan 1, 1874',\n",
       " '4.66',\n",
       " 'Jan 1, 1873',\n",
       " '5.11',\n",
       " 'Jan 1, 1872',\n",
       " '4.86',\n",
       " 'Jan 1, 1871',\n",
       " '4.44']"
      ]
     },
     "execution_count": 16,
     "metadata": {},
     "output_type": "execute_result"
    }
   ],
   "source": [
    "# use BeautifulSoup to scrape the S&P price and year from the link\n",
    "url = \"https://www.multpl.com/s-p-500-historical-prices/table/by-year\"\n",
    "html = urlopen(url)\n",
    "\n",
    "# create a Beautiful Soup object from the html\n",
    "soup = BeautifulSoup(html, 'lxml')\n",
    "type(soup)\n",
    "\n",
    "# the class of the table part of the page:\n",
    "website_text = soup.find('div', {'class' :'tcol'}).text\n",
    "\n",
    "#convert string to list\n",
    "My_list= re.findall('(.+?)\\n' , website_text)\n",
    "My_list"
   ]
  },
  {
   "cell_type": "code",
   "execution_count": 17,
   "metadata": {},
   "outputs": [],
   "source": [
    "#remove the first 5 unuseful elements of the list\n",
    "del My_list[0:5]\n",
    "\n",
    "#create a list of all years\n",
    "year_list= My_list[0::2]\n",
    "\n",
    "#remove the string next to the year numbers\n",
    "year_list=[s.replace('Jan 1, ', '') for s in year_list]\n",
    "\n",
    "#create a list of all prices\n",
    "price_list= My_list[1::2]\n",
    "price_list=[s.replace(',', '') for s in price_list]\n",
    "\n",
    "year_list=map(int,year_list)\n",
    "price_list=map(float,price_list)\n",
    "\n",
    "#create the year-price table\n",
    "sp_table = pd.DataFrame({'Year':year_list,'Price':price_list})"
   ]
  },
  {
   "cell_type": "code",
   "execution_count": 18,
   "metadata": {},
   "outputs": [
    {
     "data": {
      "text/html": [
       "<div>\n",
       "<style scoped>\n",
       "    .dataframe tbody tr th:only-of-type {\n",
       "        vertical-align: middle;\n",
       "    }\n",
       "\n",
       "    .dataframe tbody tr th {\n",
       "        vertical-align: top;\n",
       "    }\n",
       "\n",
       "    .dataframe thead th {\n",
       "        text-align: right;\n",
       "    }\n",
       "</style>\n",
       "<table border=\"1\" class=\"dataframe\">\n",
       "  <thead>\n",
       "    <tr style=\"text-align: right;\">\n",
       "      <th></th>\n",
       "      <th>Year</th>\n",
       "      <th>Price</th>\n",
       "      <th>sp_pct_change</th>\n",
       "    </tr>\n",
       "  </thead>\n",
       "  <tbody>\n",
       "    <tr>\n",
       "      <th>0</th>\n",
       "      <td>2010</td>\n",
       "      <td>1123.58</td>\n",
       "      <td>NaN</td>\n",
       "    </tr>\n",
       "    <tr>\n",
       "      <th>1</th>\n",
       "      <td>2009</td>\n",
       "      <td>865.58</td>\n",
       "      <td>-0.229623</td>\n",
       "    </tr>\n",
       "    <tr>\n",
       "      <th>2</th>\n",
       "      <td>2008</td>\n",
       "      <td>1378.76</td>\n",
       "      <td>0.592874</td>\n",
       "    </tr>\n",
       "    <tr>\n",
       "      <th>3</th>\n",
       "      <td>2007</td>\n",
       "      <td>1424.16</td>\n",
       "      <td>0.032928</td>\n",
       "    </tr>\n",
       "    <tr>\n",
       "      <th>4</th>\n",
       "      <td>2006</td>\n",
       "      <td>1278.73</td>\n",
       "      <td>-0.102116</td>\n",
       "    </tr>\n",
       "    <tr>\n",
       "      <th>5</th>\n",
       "      <td>2005</td>\n",
       "      <td>1181.41</td>\n",
       "      <td>-0.076107</td>\n",
       "    </tr>\n",
       "    <tr>\n",
       "      <th>6</th>\n",
       "      <td>2004</td>\n",
       "      <td>1132.52</td>\n",
       "      <td>-0.041383</td>\n",
       "    </tr>\n",
       "    <tr>\n",
       "      <th>7</th>\n",
       "      <td>2003</td>\n",
       "      <td>895.84</td>\n",
       "      <td>-0.208985</td>\n",
       "    </tr>\n",
       "    <tr>\n",
       "      <th>8</th>\n",
       "      <td>2002</td>\n",
       "      <td>1140.21</td>\n",
       "      <td>0.272783</td>\n",
       "    </tr>\n",
       "    <tr>\n",
       "      <th>9</th>\n",
       "      <td>2001</td>\n",
       "      <td>1335.63</td>\n",
       "      <td>0.171389</td>\n",
       "    </tr>\n",
       "    <tr>\n",
       "      <th>10</th>\n",
       "      <td>2000</td>\n",
       "      <td>1425.59</td>\n",
       "      <td>0.067354</td>\n",
       "    </tr>\n",
       "  </tbody>\n",
       "</table>\n",
       "</div>"
      ],
      "text/plain": [
       "    Year    Price  sp_pct_change\n",
       "0   2010  1123.58            NaN\n",
       "1   2009   865.58      -0.229623\n",
       "2   2008  1378.76       0.592874\n",
       "3   2007  1424.16       0.032928\n",
       "4   2006  1278.73      -0.102116\n",
       "5   2005  1181.41      -0.076107\n",
       "6   2004  1132.52      -0.041383\n",
       "7   2003   895.84      -0.208985\n",
       "8   2002  1140.21       0.272783\n",
       "9   2001  1335.63       0.171389\n",
       "10  2000  1425.59       0.067354"
      ]
     },
     "execution_count": 18,
     "metadata": {},
     "output_type": "execute_result"
    }
   ],
   "source": [
    "#filter the year\n",
    "sp_table=sp_table[(sp_table['Year']<=2010) &(sp_table['Year']>=2000)].copy()\n",
    "\n",
    "sp_table['sp_pct_change']=sp_table['Price'].pct_change()\n",
    "sp_table.reset_index(drop=True , inplace=True)\n",
    "sp_table"
   ]
  },
  {
   "cell_type": "code",
   "execution_count": 19,
   "metadata": {
    "code_folding": [
     1
    ]
   },
   "outputs": [
    {
     "name": "stdout",
     "output_type": "stream",
     "text": [
      "the Pearson correlation coefficient between the percent differences in yearly acquisitions and in the average January S&P 500 closing prices is -0.32643908947050837\n"
     ]
    }
   ],
   "source": [
    "print('the Pearson correlation coefficient between the percent differences in yearly acquisitions and in the average January S&P 500 closing prices is',\n",
    "      yearly_aqcuisitions['pct_change'].corr(sp_table['sp_pct_change'] , method='pearson'))"
   ]
  }
 ],
 "metadata": {
  "kernelspec": {
   "display_name": "Python 3",
   "language": "python",
   "name": "python3"
  },
  "toc": {
   "base_numbering": 1,
   "nav_menu": {},
   "number_sections": true,
   "sideBar": true,
   "skip_h1_title": false,
   "title_cell": "Table of Contents",
   "title_sidebar": "Contents",
   "toc_cell": false,
   "toc_position": {},
   "toc_section_display": true,
   "toc_window_display": false
  },
  "varInspector": {
   "cols": {
    "lenName": 16,
    "lenType": 16,
    "lenVar": 40
   },
   "kernels_config": {
    "python": {
     "delete_cmd_postfix": "",
     "delete_cmd_prefix": "del ",
     "library": "var_list.py",
     "varRefreshCmd": "print(var_dic_list())"
    },
    "r": {
     "delete_cmd_postfix": ") ",
     "delete_cmd_prefix": "rm(",
     "library": "var_list.r",
     "varRefreshCmd": "cat(var_dic_list()) "
    }
   },
   "types_to_exclude": [
    "module",
    "function",
    "builtin_function_or_method",
    "instance",
    "_Feature"
   ],
   "window_display": false
  }
 },
 "nbformat": 4,
 "nbformat_minor": 4
}
